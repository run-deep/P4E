{
 "cells": [
  {
   "cell_type": "markdown",
   "id": "8bbafe8c",
   "metadata": {},
   "source": [
    "# Q1.\n",
    "\n",
    "컴퓨터와 함께하는 가위바위보 게임을 만들어봅시다!\n",
    "\n",
    "조건1: 함수의 인자로는 나의 가위바위보 선택이 들어감. (0, 1, 2, 혹은 \"가위\", \"바위\", \"보\"로 입력할 수 있습니다. - 총 6가지 방법으로 넣을 수 있음)\n",
    "\n",
    "조건2: 누가 무엇을 냈고, 누가 승리 했는지 출력이 되어야 함."
   ]
  },
  {
   "cell_type": "markdown",
   "id": "59b97cc2",
   "metadata": {},
   "source": [
    "## A1.\n",
    "\n",
    "if-elif-else 문을 정확하게 이해. case를 나눈 것이 깔끔함. 가위바위보게임에서 내가 이기는 조건을 계산에서 mywin 변수에 넣어 처리 -> 전체적인 코드를 간결하게 나타내는데 핵심적인 역할을 했다. 그리고 사용자의 입력을 검증해서 올바른 입력이 들어오도록 처리."
   ]
  },
  {
   "cell_type": "code",
   "execution_count": 1,
   "id": "d70db46e",
   "metadata": {},
   "outputs": [
    {
     "name": "stdout",
     "output_type": "stream",
     "text": [
      "가위바위보(0:가위 / 1:바위 / 2:보) : 바위\n",
      "-------------------------------------------------------\n",
      "나 --> 바위  Vs  가위 <-- 컴퓨터\n",
      "#####  내가 승리!  #####\n"
     ]
    }
   ],
   "source": [
    "# 가위바위보 게임\n",
    "import random\n",
    "\n",
    "# 가위바위보 겨루기\n",
    "def rcp(my):\n",
    "    # 내가 이기는 조건\n",
    "    mywin = (my == '가위' and computer == '보') \\\n",
    "            or (my == '바위' and computer == '가위') \\\n",
    "            or (my == '보' and computer == '바위')\n",
    "\n",
    "    if my == computer :\n",
    "        result = '비겼습니다!'\n",
    "    elif mywin :\n",
    "        result = '내가 승리!'\n",
    "    else :\n",
    "        result = '컴퓨터 승리!' \n",
    "    return result\n",
    "\n",
    "while True :\n",
    "    # 가위바위보 입력\n",
    "    my = input('가위바위보(0:가위 / 1:바위 / 2:보) : ')\n",
    "    if my == '0' or my == '가위':\n",
    "        my = '가위'\n",
    "    elif my == '1' or my == '바위' :\n",
    "        my = '바위'\n",
    "    elif my == '2' or my == '보' :\n",
    "        my = '보'\n",
    "    else :\n",
    "        print('>>> 다시 입력하세요.^^')\n",
    "        continue\n",
    "    break\n",
    "\n",
    "# computer 선택값\n",
    "computer = random.randint(0, 2)\n",
    "if computer == 0 :\n",
    "    computer = '가위'\n",
    "elif computer == 1 :\n",
    "    computer = '바위'\n",
    "elif computer == 2 :\n",
    "    computer = '보'\n",
    "\n",
    "# 겨루기\n",
    "result = rcp(my)\n",
    "\n",
    "# 결과 출력\n",
    "print('-' * 55)\n",
    "print(f'나 --> {my}  Vs  {computer} <-- 컴퓨터')\n",
    "print(f'#####  {result}  #####')"
   ]
  },
  {
   "cell_type": "markdown",
   "id": "4c7bfe2f",
   "metadata": {},
   "source": [
    "## A2.\n",
    "\n",
    "기능을 함수로 분배. 조건문을 이용해 경우의 수 잘 나눔."
   ]
  },
  {
   "cell_type": "code",
   "execution_count": 2,
   "id": "909c98e9",
   "metadata": {},
   "outputs": [
    {
     "name": "stdout",
     "output_type": "stream",
     "text": [
      "가위 바위 보:보\n",
      "나: 보\n",
      "컴퓨터: 바위\n",
      "나 승리!\n"
     ]
    }
   ],
   "source": [
    "import random\n",
    "\n",
    "def rsp(rsp_value):\n",
    "  ncp = random.randint(0, 2)\n",
    "  if rsp_value == '0' or rsp_value == \"가위\":\n",
    "    print(\"나: 가위\")\n",
    "    if ncp == 0:\n",
    "      print(\"컴퓨터: 가위\")\n",
    "      print(\"무승부\")\n",
    "    elif ncp == 1:\n",
    "      print(\"컴퓨터: 바위\")\n",
    "      print(\"컴퓨터 승리!\")\n",
    "    else:\n",
    "      print(\"컴퓨터: 보\")\n",
    "      print(\"나 승리!\")\n",
    "\n",
    "  elif rsp_value == '1' or rsp_value == \"바위\":\n",
    "    print(\"나: 바위\")\n",
    "    if ncp == 0:\n",
    "      print(\"컴퓨터: 가위\")\n",
    "      print(\"나 승리!\")\n",
    "    elif ncp == 1:\n",
    "      print(\"컴퓨터: 바위\")\n",
    "      print(\"무승부\")\n",
    "    else:\n",
    "      print(\"컴퓨터: 보\")\n",
    "      print(\"컴퓨터 승리!\")\n",
    "\n",
    "  elif rsp_value == '2' or rsp_value == \"보\":\n",
    "    print(\"나: 보\")\n",
    "    if ncp == 0:\n",
    "      print(\"컴퓨터: 가위\")\n",
    "      print(\"컴퓨터 승리!\")\n",
    "    elif ncp == 1:\n",
    "      print(\"컴퓨터: 바위\")\n",
    "      print(\"나 승리!\")\n",
    "    else:\n",
    "      print(\"컴퓨터: 보\")\n",
    "      print(\"무승부\")\n",
    "  else:\n",
    "    raise Exception('0~2도 가위, 바위, 보도 아닙니다.')\n",
    "\n",
    "my = input(\"가위 바위 보:\")\n",
    "rsp(my)"
   ]
  },
  {
   "cell_type": "code",
   "execution_count": 3,
   "id": "e329437d",
   "metadata": {},
   "outputs": [
    {
     "name": "stdout",
     "output_type": "stream",
     "text": [
      "\n",
      "---------------------------------------\n",
      "가위, 바위, 보 : 보\n",
      "사용자 ( 보 vs 보 ) 컴퓨터\n",
      "비겼습니다\n",
      "---------------------------------------\n",
      "\n"
     ]
    }
   ],
   "source": [
    "import random\n",
    "\n",
    "sel = ['가위','바위','보']\n",
    "result = {0:'이겼습니다.', 1:'졌습니다.', 2:'비겼습니다'}\n",
    "\n",
    "def checkWin(user, com):\n",
    "    if not user in sel:\n",
    "        print('잘못된 입력입니다. 다시 입력하세요.')\n",
    "        return False\n",
    "   \n",
    "    print(f'사용자 ( {user} vs {com} ) 컴퓨터')\n",
    "   \n",
    "    state = 0 #0 : win, 1 : lose, 2 : drew\n",
    "    if user == com:\n",
    "      state = 2\n",
    "    elif user == '가위' and com == '보':\n",
    "      state = 0\n",
    "    elif user == '바위' and com == '가위':\n",
    "      state = 0\n",
    "    elif user == '보' and com == '바위':\n",
    "      state = 0\n",
    "    else:\n",
    "      state = 1\n",
    "\n",
    "    print(result[state])\n",
    "    return True\n",
    "\n",
    "print('\\n---------------------------------------')\n",
    "while True:\n",
    "    user = input(\"가위, 바위, 보 : \")\n",
    "    com = random.randint(0,2)\n",
    "    com = sel[com]\n",
    "\n",
    "    if checkWin(user, com):\n",
    "        break\n",
    "\n",
    "print('---------------------------------------\\n')"
   ]
  },
  {
   "cell_type": "code",
   "execution_count": 4,
   "id": "be7af5a5",
   "metadata": {},
   "outputs": [
    {
     "name": "stdout",
     "output_type": "stream",
     "text": [
      "가위 바위 보\n",
      "보\n",
      "나: 보\n",
      "컴퓨터: 가위\n",
      "컴퓨터 승리!\n"
     ]
    }
   ],
   "source": [
    "import random\n",
    "\n",
    "def rcp(my):\n",
    "    if my == \"가위\" or my == 0:\n",
    "        user = 0\n",
    "        print(\"나: 가위\")\n",
    "    elif my == \"바위\" or my == 1:\n",
    "        user = 1\n",
    "        print(\"나: 바위\")\n",
    "    elif my == \"보\" or my == 2:\n",
    "        user = 2\n",
    "        print(\"나: 보\")\n",
    "    else:\n",
    "        raise Exception('잘못 입력하셨습니다.')\n",
    "\n",
    "    computer = random.randint(0, 2)\n",
    "    result = computer - user\n",
    "\n",
    "    if computer == 0:\n",
    "        print(\"컴퓨터: 가위\")\n",
    "    elif computer ==1:\n",
    "        print(\"컴퓨터: 바위\")\n",
    "    else:\n",
    "        print(\"컴퓨터: 보\")\n",
    "\n",
    "    if result == -2 or result == 1:\n",
    "        print(\"컴퓨터 승리!\")\n",
    "    elif result == -1 or result == 2:\n",
    "        print(\"나의 승리!\")\n",
    "    else:\n",
    "        winner = \"draw\"\n",
    "        print(\"무승부!\")\n",
    "\n",
    "my = input(\"가위 바위 보\\n\")\n",
    "rcp(my)"
   ]
  }
 ],
 "metadata": {
  "kernelspec": {
   "display_name": "Python 3 (ipykernel)",
   "language": "python",
   "name": "python3"
  },
  "language_info": {
   "codemirror_mode": {
    "name": "ipython",
    "version": 3
   },
   "file_extension": ".py",
   "mimetype": "text/x-python",
   "name": "python",
   "nbconvert_exporter": "python",
   "pygments_lexer": "ipython3",
   "version": "3.9.7"
  }
 },
 "nbformat": 4,
 "nbformat_minor": 5
}
