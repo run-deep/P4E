{
 "cells": [
  {
   "cell_type": "markdown",
   "id": "5740ccda",
   "metadata": {},
   "source": [
    "# Q2.\n",
    "\n",
    "월급을 입력하면 연봉을 계산해주는 계산기를 만들어 봅시다. 세전 연봉과 세후 연봉을 함께 출력하도록 해봅니다.\n",
    "\n",
    "아래의 세율 표를 토대로 만들어주세요. (단, 실제 세율과 다를 수 있습니다!)\n",
    "\n",
    "1200만원 이하: 6%  \n",
    "4600만원 이하: 15%  \n",
    "8800만원 이하: 24%  \n",
    "1억 5천만원 이하: 35%  \n",
    "3억원 이하: 38%  \n",
    "5억원 이하: 40%  \n",
    "5억원 초과: 42%  "
   ]
  },
  {
   "cell_type": "markdown",
   "id": "9f35670f",
   "metadata": {},
   "source": [
    "## A1.\n",
    "\n",
    "elif 문 정확하게 활용 (1200 한번만 언급하기)"
   ]
  },
  {
   "cell_type": "code",
   "execution_count": 3,
   "id": "cd1b84bf",
   "metadata": {},
   "outputs": [
    {
     "name": "stdout",
     "output_type": "stream",
     "text": [
      "세전연봉:  8400 만원\n",
      "세후연봉:  6384 만원\n"
     ]
    }
   ],
   "source": [
    "import math\n",
    "def yearly_payment(monthly_payment):\n",
    "    before_tax = monthly_payment * 12\n",
    "    if before_tax <= 1200:\n",
    "        after_tax = before_tax*(1 - 0.06)\n",
    "    elif before_tax <= 4600:\n",
    "        after_tax = before_tax*(1 - 0.15)\n",
    "    elif before_tax <= 8800:\n",
    "        after_tax = before_tax*(1 - 0.24)\n",
    "    elif before_tax <= 15000:\n",
    "        after_tax = before_tax*(1 - 0.35)\n",
    "    elif before_tax <= 30000:\n",
    "        after_tax = before_tax*(1 - 0.38)\n",
    "    elif before_tax <= 50000:\n",
    "        after_tax = before_tax*(1 - 0.40)\n",
    "    else:\n",
    "        after_tax = before_tax*(1 - 0.42)\n",
    "    print(\"세전연봉: \", before_tax, \"만원\")\n",
    "    print(\"세후연봉: \", math.ceil(after_tax), \"만원\")\n",
    "\n",
    "\n",
    "monthly_payment = 700\n",
    "yearly_payment(monthly_payment)"
   ]
  },
  {
   "cell_type": "markdown",
   "id": "1a170b05",
   "metadata": {},
   "source": [
    "## A2.\n",
    "\n",
    "연봉 입력으로 받기, 입력 값 형태 고정"
   ]
  },
  {
   "cell_type": "code",
   "execution_count": 8,
   "id": "92427a17",
   "metadata": {},
   "outputs": [
    {
     "name": "stdout",
     "output_type": "stream",
     "text": [
      "월급을 입력하세요(만원): 750\n",
      "-------------------------------------------------------\n",
      "월급: 750만원\n"
     ]
    },
    {
     "ename": "NameError",
     "evalue": "name 'y_payment_bf' is not defined",
     "output_type": "error",
     "traceback": [
      "\u001b[1;31m---------------------------------------------------------------------------\u001b[0m",
      "\u001b[1;31mNameError\u001b[0m                                 Traceback (most recent call last)",
      "\u001b[1;32m~\\AppData\\Local\\Temp/ipykernel_25056/4288726844.py\u001b[0m in \u001b[0;36m<module>\u001b[1;34m\u001b[0m\n\u001b[0;32m     33\u001b[0m \u001b[0mprint\u001b[0m\u001b[1;33m(\u001b[0m\u001b[1;34m'-'\u001b[0m \u001b[1;33m*\u001b[0m \u001b[1;36m55\u001b[0m\u001b[1;33m)\u001b[0m\u001b[1;33m\u001b[0m\u001b[1;33m\u001b[0m\u001b[0m\n\u001b[0;32m     34\u001b[0m \u001b[0mprint\u001b[0m\u001b[1;33m(\u001b[0m\u001b[1;34mf'월급: {monthly_payment}만원'\u001b[0m\u001b[1;33m)\u001b[0m\u001b[1;33m\u001b[0m\u001b[1;33m\u001b[0m\u001b[0m\n\u001b[1;32m---> 35\u001b[1;33m \u001b[0mprint\u001b[0m\u001b[1;33m(\u001b[0m\u001b[1;34mf'세전 연봉: {y_payment_bf}만원'\u001b[0m\u001b[1;33m)\u001b[0m\u001b[1;33m\u001b[0m\u001b[1;33m\u001b[0m\u001b[0m\n\u001b[0m\u001b[0;32m     36\u001b[0m \u001b[0mprint\u001b[0m\u001b[1;33m(\u001b[0m\u001b[1;34mf'세후 연봉: {y_payment_af:.0f}만원'\u001b[0m\u001b[1;33m)\u001b[0m\u001b[1;33m\u001b[0m\u001b[1;33m\u001b[0m\u001b[0m\n",
      "\u001b[1;31mNameError\u001b[0m: name 'y_payment_bf' is not defined"
     ]
    }
   ],
   "source": [
    "# 세전, 세후 연봉 계산\n",
    "def yearly_payment(monthly_payment) :\n",
    "    y_payment_bf = 12 * monthly_payment\n",
    "    if y_payment_bf <= 1200 :\n",
    "        y_payment_af = y_payment_bf * (1 - 0.06)\n",
    "    elif y_payment_bf <= 4600 :\n",
    "        y_payment_af = y_payment_bf * (1 - 0.15)\n",
    "    elif y_payment_bf <= 8800 :\n",
    "        y_payment_af = y_payment_bf * (1 - 0.24)\n",
    "    elif y_payment_bf <= 15000 :\n",
    "        y_payment_af = y_payment_bf * (1 - 0.35)\n",
    "    elif y_payment_bf <= 30000 :\n",
    "        y_payment_af = y_payment_bf * (1 - 0.38)\n",
    "    elif y_payment_bf <= 50000 :\n",
    "        y_payment_af = y_payment_bf * (1 - 0.40)\n",
    "    else :\n",
    "        y_payment_af = y_payment_bf * (1 - 0.42)\n",
    "    return y_payment_af\n",
    "\n",
    "while True :\n",
    "    # 월급 입력\n",
    "    try :\n",
    "        monthly_payment = int(input('월급을 입력하세요(만원): '))\n",
    "    except :\n",
    "        print('>>> 다시 바르게 입력해주세요^^')\n",
    "        continue\n",
    "    break\n",
    "\n",
    "# 세전, 세후 연봉 계산\n",
    "y_payment_af = yearly_payment(monthly_payment)\n",
    "\n",
    "# 결과 출력\n",
    "print('-' * 55)\n",
    "print(f'월급: {monthly_payment}만원')\n",
    "print(f'세전 연봉: {y_payment_bf}만원')\n",
    "print(f'세후 연봉: {y_payment_af:.0f}만원')"
   ]
  }
 ],
 "metadata": {
  "kernelspec": {
   "display_name": "Python 3 (ipykernel)",
   "language": "python",
   "name": "python3"
  },
  "language_info": {
   "codemirror_mode": {
    "name": "ipython",
    "version": 3
   },
   "file_extension": ".py",
   "mimetype": "text/x-python",
   "name": "python",
   "nbconvert_exporter": "python",
   "pygments_lexer": "ipython3",
   "version": "3.9.7"
  }
 },
 "nbformat": 4,
 "nbformat_minor": 5
}
