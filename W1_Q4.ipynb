{
 "cells": [
  {
   "cell_type": "markdown",
   "id": "f08db9cd",
   "metadata": {},
   "source": [
    "# Q4. \n",
    "강의에서 미국과 유럽의 엘리베이터 층수를 변환하는 프로그램이 나왔습니다. 그와 비슷하게 우리는 한국 나이를 미국 나이로 변환하는 프로그램을 코딩 해봅시다.\n",
    "\n",
    "hint: 미국 나이는 생일이 지났는지 안 지났는지가 중요하죠!\n",
    "print(\"당신의 미국나이 : \", birth_year + birth -1)"
   ]
  },
  {
   "cell_type": "markdown",
   "id": "c44d7f3f",
   "metadata": {},
   "source": [
    "## A1. \n",
    "\n",
    "한국 나이를 미국 나이로 변환하는 프로그램을 변수명도 직관적으로 바로 이해할 수 있게 지어주시고 코드의 흐름도 잘 파악할 수 있게 작성해주신 것 같아요!\n",
    "입력을 바로 활용해서 답을 구하는 부분이 인상적이었습니다.\n",
    "(실무, 프로젝트 등 코드의 가독성이 중요시 되는 상황에서는 절대 사용을 추천드리지 않지만 저 혼자 파이썬으로 코딩할 때는 종종 코드를 한줄로 줄여보는 장난을 하곤합니다..ㅎㅎ \n",
    "미국 나이 변환 코드도 한줄 코드로 작성해볼 수 있을 것 같은데요! 도전을 좋아하시는 부스터분들이라면 도전을 추천드립니다!)\n",
    "\n",
    "보완: 나이 값을 음의 정수로 입력하여도 코드가 작동함."
   ]
  },
  {
   "cell_type": "code",
   "execution_count": 3,
   "id": "22fb62f2",
   "metadata": {
    "scrolled": true
   },
   "outputs": [
    {
     "name": "stdout",
     "output_type": "stream",
     "text": [
      "당신의 한국나이는? : -5\n",
      "생일이 지났습니까? 맞으면 0 아니면 -1 : 2\n",
      "당신의 미국나이 :  -4\n"
     ]
    }
   ],
   "source": [
    "birth_year = int(input(\"당신의 한국나이는? : \"))\n",
    "birth = int(input(\"생일이 지났습니까? 맞으면 0 아니면 -1 : \"))\n",
    "print(\"당신의 미국나이 : \", birth_year + birth -1)\n",
    "# 미국 나이는 기본적으로 한국나이 -1 (태어날 때 0살)"
   ]
  },
  {
   "cell_type": "markdown",
   "id": "556a1484",
   "metadata": {},
   "source": [
    "## A2.\n",
    "파이썬 코드를 codelab 링크로 제출해 주셨네요. 함수를 벌써 사용해주셨군요!\n",
    "사용자의 입력을 살피는 세심함까지! 너무 좋은 것 같습니다 ㅎㅎㅎ\n",
    "함수로 기능을 분리하고 try except 구문을 사용해서 사용자의 입력이 정수형으로 올바르게 들어오게 한 점 너무 인상적이었습니다.\n",
    "\n",
    "보완: 탈출하는 코드가 없음."
   ]
  },
  {
   "cell_type": "code",
   "execution_count": null,
   "id": "b769c1b2",
   "metadata": {},
   "outputs": [],
   "source": [
    "def from_korean_age_to_american_age(korean_age):\n",
    "    while True:\n",
    "        try:\n",
    "            passed = int(input('Has your birthday already passed? If so, press 0. Otherwise, press -1 : '))\n",
    "            if passed != 0 and passed != -1:\n",
    "                print('Enter 0 or -1')\n",
    "                continue\n",
    "            if korean_age == 1 or passed == 0:\n",
    "                return korean_age - 1\n",
    "            elif passed == -1:\n",
    "                return korean_age - 2\n",
    "        except:\n",
    "            print('Enter 0 or -1')\n",
    "            \n",
    "while True:\n",
    "    try:\n",
    "        korean_age = int(input('Enter your korean age '))\n",
    "        if korean_age < 1:\n",
    "            print('Your korean age should be a positive integer. Enter your korean age again')\n",
    "            continue\n",
    "        print('Your american age is', from_korean_age_to_american_age(korean_age))\n",
    "    except:\n",
    "        print('Please enter a number!')"
   ]
  },
  {
   "cell_type": "markdown",
   "id": "e69e34b1",
   "metadata": {},
   "source": [
    "## A3.\n",
    "직관적인 변수명과 사용자의 입력이 올바른지 체크하는 세심함까지! 정말 완벽한 코드인 것 같습니다:"
   ]
  },
  {
   "cell_type": "code",
   "execution_count": 2,
   "id": "405f9a2a",
   "metadata": {},
   "outputs": [
    {
     "name": "stdout",
     "output_type": "stream",
     "text": [
      "한국나이를 입력하세요 : 24\n",
      "생일이 지났습니까? 맞으면 0 아니면 -1 : -2\n",
      "0 또는 -1을 입력해주세요.\n"
     ]
    }
   ],
   "source": [
    "Kage = int(input(\"한국나이를 입력하세요 : \"))\n",
    "birth = int(input(\"생일이 지났습니까? 맞으면 0 아니면 -1 : \"))\n",
    "\n",
    "if birth != 0 and birth != -1:\n",
    "    print(\"0 또는 -1을 입력해주세요.\")\n",
    "else:\n",
    "    print(\"미국나이 : \", Kage + birth -1)"
   ]
  },
  {
   "cell_type": "code",
   "execution_count": null,
   "id": "254ac0e6",
   "metadata": {},
   "outputs": [],
   "source": []
  }
 ],
 "metadata": {
  "kernelspec": {
   "display_name": "Python 3 (ipykernel)",
   "language": "python",
   "name": "python3"
  },
  "language_info": {
   "codemirror_mode": {
    "name": "ipython",
    "version": 3
   },
   "file_extension": ".py",
   "mimetype": "text/x-python",
   "name": "python",
   "nbconvert_exporter": "python",
   "pygments_lexer": "ipython3",
   "version": "3.9.7"
  }
 },
 "nbformat": 4,
 "nbformat_minor": 5
}
