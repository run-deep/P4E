{
 "cells": [
  {
   "cell_type": "markdown",
   "id": "c2634f46",
   "metadata": {},
   "source": [
    "# Q4. \n",
    "\n",
    "강의에서 미국과 유럽의 엘리베이터 층수를 변환하는 프로그램이 나왔습니다. 그와 비슷하게 우리는 한국 나이를 미국 나이로 변환하는 프로그램을 코딩 해봅시다.\n",
    "\n",
    "hint: 미국 나이는 생일이 지났는지 안 지났는지가 중요하죠!\n",
    "\n",
    "print(\"당신의 미국나이 : \", birth_year + birth -1)"
   ]
  },
  {
   "cell_type": "markdown",
   "id": "32ad770f",
   "metadata": {},
   "source": [
    "## A1. \n",
    "\n",
    "변수명 직관적, 코드 흐름 빠르게 파악 가능. 입력을 바로 활용해서 답 구하기.\n",
    "\n",
    "(실무, 프로젝트 등 코드의 가독성이 중요시 되는 상황에서는 절대 사용을 추천드리지 않지만 저 혼자 파이썬으로 코딩할 때는 종종 코드를 한줄로 줄여보는 장난을 하곤합니다..ㅎㅎ \n",
    "미국 나이 변환 코드도 한줄 코드로 작성해볼 수 있을 것 같은데요! 도전을 좋아하시는 부스터분들이라면 도전을 추천드립니다!)\n",
    "\n",
    "보완: 나이 값을 음의 정수로 입력하여도 코드가 작동함."
   ]
  },
  {
   "cell_type": "code",
   "execution_count": null,
   "id": "a21a2b99",
   "metadata": {
    "scrolled": true
   },
   "outputs": [],
   "source": [
    "birth_year = int(input(\"당신의 한국나이는? : \"))\n",
    "birth = int(input(\"생일이 지났습니까? 맞으면 0 아니면 -1 : \"))\n",
    "print(\"당신의 미국나이 : \", birth_year + birth -1)\n",
    "# 미국 나이는 기본적으로 한국나이 -1 (태어날 때 0살)"
   ]
  },
  {
   "cell_type": "code",
   "execution_count": 1,
   "id": "17e9ab58",
   "metadata": {},
   "outputs": [
    {
     "name": "stdout",
     "output_type": "stream",
     "text": [
      "당신은 몇 살입니까? 24\n",
      "생일이 지났습니까? 맞으면 0, 아니면 -1: -1\n",
      "당신의 미국 나이는 : 22\n"
     ]
    }
   ],
   "source": [
    "kr_age = int(input(\"당신은 몇 살입니까? \"))\n",
    "birth = int(input(\"생일이 지났습니까? 맞으면 0, 아니면 -1: \"))\n",
    "en_age = kr_age + birth -1\n",
    "print(\"당신의 미국 나이는 :\", en_age)"
   ]
  },
  {
   "cell_type": "markdown",
   "id": "39255d61",
   "metadata": {},
   "source": [
    "## A2.\n",
    "함수 사용 (기능 분리), 사용자의 입력 확인\n",
    "\n",
    "try except 구문을 사용해서 사용자의 입력이 정수형으로 올바르게 들어왔는지 확인\n",
    "\n",
    "보완: 탈출하는 코드가 없음."
   ]
  },
  {
   "cell_type": "code",
   "execution_count": null,
   "id": "87f744fc",
   "metadata": {},
   "outputs": [],
   "source": [
    "def from_korean_age_to_american_age(korean_age):\n",
    "    while True:\n",
    "        try:\n",
    "            passed = int(input('Has your birthday already passed? If so, press 0. Otherwise, press -1 : '))\n",
    "            if passed != 0 and passed != -1:\n",
    "                print('Enter 0 or -1')\n",
    "                continue\n",
    "            if korean_age == 1 or passed == 0:\n",
    "                return korean_age - 1\n",
    "            elif passed == -1:\n",
    "                return korean_age - 2\n",
    "        except:\n",
    "            print('Enter 0 or -1')\n",
    "            \n",
    "while True:\n",
    "    try:\n",
    "        korean_age = int(input('Enter your korean age '))\n",
    "        if korean_age < 1:\n",
    "            print('Your korean age should be a positive integer. Enter your korean age again')\n",
    "            continue\n",
    "        print('Your american age is', from_korean_age_to_american_age(korean_age))\n",
    "    except:\n",
    "        print('Please enter a number!')"
   ]
  },
  {
   "cell_type": "markdown",
   "id": "25c4b70a",
   "metadata": {},
   "source": [
    "## A3.\n",
    "\n",
    "함수와 다른 datetime 모듈 사용. 사용자의 생일을 입력받아 바로 미국나이를 계산"
   ]
  },
  {
   "cell_type": "code",
   "execution_count": 5,
   "id": "a7ecf60e",
   "metadata": {},
   "outputs": [
    {
     "name": "stdout",
     "output_type": "stream",
     "text": [
      "22\n"
     ]
    }
   ],
   "source": [
    "from datetime import date\n",
    "\n",
    "def convert_age(birth):\n",
    "    today = date.today()\n",
    "    birth = date.fromisoformat(birth)\n",
    "    if today.month > birth.month:\n",
    "        return today.year - birth.year\n",
    "    elif today.month == birth.month:\n",
    "        if today.day >= birth.day:\n",
    "            return today.year - birth.year\n",
    "        else:\n",
    "            return today.year - birth.year - 1\n",
    "    else:\n",
    "        return today.year - birth.year - 1\n",
    "\n",
    "birth = \"1999-07-05\"\n",
    "print(convert_age(birth))"
   ]
  },
  {
   "cell_type": "markdown",
   "id": "d15c9ac4",
   "metadata": {},
   "source": [
    "## A4.\n",
    "현재 년도와 태어난 년도를 입력 받아 뺄셈으로 나이 계산"
   ]
  },
  {
   "cell_type": "code",
   "execution_count": 6,
   "id": "addc567f",
   "metadata": {},
   "outputs": [
    {
     "name": "stdout",
     "output_type": "stream",
     "text": [
      "생일이 지났습니까? 맞으면 0 아니면 -1 : -1\n",
      "현재 년도를 입력해주세요! : 2022\n",
      "태어난 년도를 입력해주세요! 1999\n",
      "미국 나이는 22 살 입니다 !!\n"
     ]
    }
   ],
   "source": [
    "birth = int(input(\"생일이 지났습니까? 맞으면 0 아니면 -1 : \"))\n",
    "\n",
    "now_year = int(input(\"현재 년도를 입력해주세요! : \"))\n",
    "birth_year = int(input(\"태어난 년도를 입력해주세요! \"))\n",
    "\n",
    "# 미국나이 = 현재 년도 - 태어난 년도 + birth\n",
    "usa_age = now_year - birth_year + birth\n",
    "\n",
    "print(\"미국 나이는\", usa_age, '살 입니다 !!')"
   ]
  }
 ],
 "metadata": {
  "kernelspec": {
   "display_name": "Python 3 (ipykernel)",
   "language": "python",
   "name": "python3"
  },
  "language_info": {
   "codemirror_mode": {
    "name": "ipython",
    "version": 3
   },
   "file_extension": ".py",
   "mimetype": "text/x-python",
   "name": "python",
   "nbconvert_exporter": "python",
   "pygments_lexer": "ipython3",
   "version": "3.9.7"
  }
 },
 "nbformat": 4,
 "nbformat_minor": 5
}
